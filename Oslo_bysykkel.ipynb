{
  "nbformat": 4,
  "nbformat_minor": 0,
  "metadata": {
    "colab": {
      "name": "Oslo_bysykkel",
      "provenance": [],
      "include_colab_link": true
    },
    "kernelspec": {
      "name": "python3",
      "display_name": "Python 3"
    }
  },
  "cells": [
    {
      "cell_type": "markdown",
      "metadata": {
        "id": "view-in-github",
        "colab_type": "text"
      },
      "source": [
        "<a href=\"https://colab.research.google.com/github/mikdybwed/daily-life-projects/blob/master/Oslo_bysykkel.ipynb\" target=\"_parent\"><img src=\"https://colab.research.google.com/assets/colab-badge.svg\" alt=\"Open In Colab\"/></a>"
      ]
    },
    {
      "cell_type": "markdown",
      "metadata": {
        "id": "41g74ohKUl07",
        "colab_type": "text"
      },
      "source": [
        ""
      ]
    },
    {
      "cell_type": "code",
      "metadata": {
        "id": "Bw1PCwpcUKbO",
        "colab_type": "code",
        "colab": {}
      },
      "source": [
        "import pandas as pd\n",
        "import numpy as np\n",
        "import ipywidgets as widgets\n",
        "import json\n",
        "import urllib.request, urllib.response"
      ],
      "execution_count": 0,
      "outputs": []
    },
    {
      "cell_type": "code",
      "metadata": {
        "id": "mrQJMmTYUjIY",
        "colab_type": "code",
        "colab": {}
      },
      "source": [
        "#Function for connecting to and retrieving json data\n",
        "def get_json(url):\n",
        "  with urllib.request.urlopen(url) as response:\n",
        "    return json.load(response)"
      ],
      "execution_count": 0,
      "outputs": []
    },
    {
      "cell_type": "code",
      "metadata": {
        "id": "havXXsKL6RfX",
        "colab_type": "code",
        "colab": {}
      },
      "source": [
        "station_status = get_json(\"https://gbfs.urbansharing.com/oslobysykkel.no/station_status.json\")\n",
        "station_availability = get_json(\"https://gbfs.urbansharing.com/oslobysykkel.no/station_information.json\")"
      ],
      "execution_count": 0,
      "outputs": []
    },
    {
      "cell_type": "code",
      "metadata": {
        "id": "oHUdXOKy9zrg",
        "colab_type": "code",
        "colab": {}
      },
      "source": [
        "status = pd.DataFrame(station_status[\"data\"][\"stations\"])\n",
        "availability = pd.DataFrame(station_availability[\"data\"][\"stations\"])"
      ],
      "execution_count": 0,
      "outputs": []
    },
    {
      "cell_type": "code",
      "metadata": {
        "id": "w1l6pn_5-cAU",
        "colab_type": "code",
        "colab": {}
      },
      "source": [
        "test = pd.merge(status, availability, on=\"station_id\")\n",
        "test = test.filter([\"name\",\"num_bikes_available\", \"num_docks_available\"])\n",
        "test.set_index(\"name\")\n",
        "test.index.name = None"
      ],
      "execution_count": 0,
      "outputs": []
    },
    {
      "cell_type": "code",
      "metadata": {
        "id": "vn2iUTLLDdU7",
        "colab_type": "code",
        "colab": {}
      },
      "source": [
        "test.index.name"
      ],
      "execution_count": 0,
      "outputs": []
    },
    {
      "cell_type": "code",
      "metadata": {
        "id": "pteg48nBEAL2",
        "colab_type": "code",
        "colab": {
          "base_uri": "https://localhost:8080/",
          "height": 419
        },
        "outputId": "3fc4e710-5937-4f4b-ff98-7f8520425127"
      },
      "source": [
        "test"
      ],
      "execution_count": 34,
      "outputs": [
        {
          "output_type": "execute_result",
          "data": {
            "text/html": [
              "<div>\n",
              "<style scoped>\n",
              "    .dataframe tbody tr th:only-of-type {\n",
              "        vertical-align: middle;\n",
              "    }\n",
              "\n",
              "    .dataframe tbody tr th {\n",
              "        vertical-align: top;\n",
              "    }\n",
              "\n",
              "    .dataframe thead th {\n",
              "        text-align: right;\n",
              "    }\n",
              "</style>\n",
              "<table border=\"1\" class=\"dataframe\">\n",
              "  <thead>\n",
              "    <tr style=\"text-align: right;\">\n",
              "      <th></th>\n",
              "      <th>name</th>\n",
              "      <th>num_bikes_available</th>\n",
              "      <th>num_docks_available</th>\n",
              "    </tr>\n",
              "  </thead>\n",
              "  <tbody>\n",
              "    <tr>\n",
              "      <th>0</th>\n",
              "      <td>Stortingstunellen</td>\n",
              "      <td>5</td>\n",
              "      <td>16</td>\n",
              "    </tr>\n",
              "    <tr>\n",
              "      <th>1</th>\n",
              "      <td>Professor Aschehougs plass</td>\n",
              "      <td>5</td>\n",
              "      <td>1</td>\n",
              "    </tr>\n",
              "    <tr>\n",
              "      <th>2</th>\n",
              "      <td>Borgenveien</td>\n",
              "      <td>4</td>\n",
              "      <td>4</td>\n",
              "    </tr>\n",
              "    <tr>\n",
              "      <th>3</th>\n",
              "      <td>Enerhaugen</td>\n",
              "      <td>0</td>\n",
              "      <td>23</td>\n",
              "    </tr>\n",
              "    <tr>\n",
              "      <th>4</th>\n",
              "      <td>Kirkegata 15</td>\n",
              "      <td>7</td>\n",
              "      <td>0</td>\n",
              "    </tr>\n",
              "    <tr>\n",
              "      <th>...</th>\n",
              "      <td>...</td>\n",
              "      <td>...</td>\n",
              "      <td>...</td>\n",
              "    </tr>\n",
              "    <tr>\n",
              "      <th>241</th>\n",
              "      <td>Lodalen busstopp</td>\n",
              "      <td>0</td>\n",
              "      <td>11</td>\n",
              "    </tr>\n",
              "    <tr>\n",
              "      <th>242</th>\n",
              "      <td>Botanisk Hage sør</td>\n",
              "      <td>0</td>\n",
              "      <td>28</td>\n",
              "    </tr>\n",
              "    <tr>\n",
              "      <th>243</th>\n",
              "      <td>Nylandsveien</td>\n",
              "      <td>11</td>\n",
              "      <td>15</td>\n",
              "    </tr>\n",
              "    <tr>\n",
              "      <th>244</th>\n",
              "      <td>Hallénparken</td>\n",
              "      <td>0</td>\n",
              "      <td>8</td>\n",
              "    </tr>\n",
              "    <tr>\n",
              "      <th>245</th>\n",
              "      <td>Sommerfrydhagen</td>\n",
              "      <td>0</td>\n",
              "      <td>19</td>\n",
              "    </tr>\n",
              "  </tbody>\n",
              "</table>\n",
              "<p>246 rows × 3 columns</p>\n",
              "</div>"
            ],
            "text/plain": [
              "                           name  num_bikes_available  num_docks_available\n",
              "0             Stortingstunellen                    5                   16\n",
              "1    Professor Aschehougs plass                    5                    1\n",
              "2                   Borgenveien                    4                    4\n",
              "3                    Enerhaugen                    0                   23\n",
              "4                  Kirkegata 15                    7                    0\n",
              "..                          ...                  ...                  ...\n",
              "241            Lodalen busstopp                    0                   11\n",
              "242           Botanisk Hage sør                    0                   28\n",
              "243                Nylandsveien                   11                   15\n",
              "244                Hallénparken                    0                    8\n",
              "245             Sommerfrydhagen                    0                   19\n",
              "\n",
              "[246 rows x 3 columns]"
            ]
          },
          "metadata": {
            "tags": []
          },
          "execution_count": 34
        }
      ]
    }
  ]
}